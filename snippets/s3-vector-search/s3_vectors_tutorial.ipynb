{
 "cells": [
  {
   "cell_type": "markdown",
   "id": "77e1438f",
   "metadata": {},
   "source": [
    "# Getting Started with Amazon S3 Vectors\n",
    "\n",
    "S3 Vectors introduces **vector buckets**, a new S3 bucket type with native support for storing and querying vector embeddings at scale. You organize your data inside **vector indexes**, which support similarity search via APIs — without provisioning any infrastructure.\n",
    "\n",
    "Each vector bucket can contain up to **10,000 indexes**, and each index can hold **tens of millions of vectors**.\n",
    "\n",
    "This notebook walks through:\n",
    "- Setting up a vector bucket and index\n",
    "- Generating embeddings using Cohere via Amazon Bedrock\n",
    "- Storing and querying vectors\n"
   ]
  },
  {
   "cell_type": "markdown",
   "id": "b85c0d27",
   "metadata": {},
   "source": [
    "## Installing Requirements"
   ]
  },
  {
   "cell_type": "code",
   "execution_count": 18,
   "id": "3dd3b294",
   "metadata": {},
   "outputs": [
    {
     "name": "stdout",
     "output_type": "stream",
     "text": [
      "Note: you may need to restart the kernel to use updated packages.\n",
      "Note: you may need to restart the kernel after updating packages.\n"
     ]
    }
   ],
   "source": [
    "%pip install -U boto3 --quiet\n",
    "print(\"Note: you may need to restart the kernel after updating packages.\")\n"
   ]
  },
  {
   "cell_type": "markdown",
   "id": "001ba56c",
   "metadata": {},
   "source": [
    "In addition to boto3:\n",
    "- Review IAM requirements [here](https://docs.aws.amazon.com/AmazonS3/latest/userguide/s3-vectors-iam-policies.html)\n",
    "- Make sure your embedding model is [enabled on Bedrock](https://docs.aws.amazon.com/bedrock/latest/userguide/model-access-modify.html)."
   ]
  },
  {
   "cell_type": "markdown",
   "id": "587123c5",
   "metadata": {},
   "source": [
    "## Importing Libraries and Setting Environment"
   ]
  },
  {
   "cell_type": "code",
   "execution_count": null,
   "id": "1b703df6",
   "metadata": {},
   "outputs": [],
   "source": [
    "import boto3\n",
    "import os\n",
    "import json\n",
    "import time\n",
    "\n",
    "# ⚠️ Recommended: use IAM roles with EC2/SageMaker rather than hardcoded credentials\n",
    "# os.environ[\"AWS_ACCESS_KEY_ID\"] = '...'\n",
    "# os.environ[\"AWS_SECRET_ACCESS_KEY\"] = '...'\n",
    "\n",
    "# Set default region\n",
    "os.environ[\"AWS_DEFAULT_REGION\"] = 'us-east-1'\n",
    "\n",
    "# Define vector bucket and index names\n",
    "vector_bucket_name = \"testings3vector\"\n",
    "vector_bucket_index = \"testings3vectorindex\"\n"
   ]
  },
  {
   "cell_type": "markdown",
   "id": "ca26dcf8",
   "metadata": {},
   "source": [
    "## Creating the Vector Bucket and Index"
   ]
  },
  {
   "cell_type": "code",
   "execution_count": 20,
   "id": "66d3617e",
   "metadata": {},
   "outputs": [],
   "source": [
    "# S3 Vectors client\n",
    "client = boto3.client('s3vectors')\n"
   ]
  },
  {
   "cell_type": "code",
   "execution_count": null,
   "id": "c83ec32f",
   "metadata": {},
   "outputs": [],
   "source": [
    "# Create the S3 Vector Bucket (idempotent)\n",
    "response = client.create_vector_bucket(vectorBucketName=vector_bucket_name)\n"
   ]
  },
  {
   "cell_type": "code",
   "execution_count": 22,
   "id": "97b63454",
   "metadata": {},
   "outputs": [],
   "source": [
    "# Create the Vector Index\n",
    "response = client.create_index(\n",
    "    vectorBucketName=vector_bucket_name,\n",
    "    indexName=vector_bucket_index,\n",
    "    dataType='float32',\n",
    "    dimension=1024,\n",
    "    distanceMetric='cosine'\n",
    ")\n"
   ]
  },
  {
   "cell_type": "markdown",
   "id": "5f4a35a3",
   "metadata": {},
   "source": [
    "## Generating Embeddings using Cohere via Amazon Bedrock"
   ]
  },
  {
   "cell_type": "code",
   "execution_count": 23,
   "id": "5bc5f3a1",
   "metadata": {},
   "outputs": [
    {
     "name": "stdout",
     "output_type": "stream",
     "text": [
      "Text: The quick brown fox\n",
      "Embedding (dim 1024): [0.01802063, 0.03741455, 0.0413208, 0.024765015, -0.03668213]...\n",
      "\n",
      "Text: jumps over the lazy dog\n",
      "Embedding (dim 1024): [0.014190674, 0.033599854, 0.048431396, 0.017120361, -0.009674072]...\n",
      "\n"
     ]
    }
   ],
   "source": [
    "# Create a Bedrock runtime client\n",
    "bedrock = boto3.client(\"bedrock-runtime\")\n",
    "\n",
    "# Example input text\n",
    "texts = [\"The quick brown fox\", \"jumps over the lazy dog\"]\n",
    "\n",
    "# Prepare the payload for Cohere\n",
    "body = {\n",
    "    \"texts\": texts,\n",
    "    \"input_type\": \"search_document\"\n",
    "}\n",
    "payload = json.dumps(body)\n",
    "\n",
    "# Use Cohere multilingual embedding model\n",
    "model_id = \"cohere.embed-multilingual-v3\"\n",
    "\n",
    "# Invoke Bedrock model\n",
    "response = bedrock.invoke_model(\n",
    "    modelId=model_id,\n",
    "    body=payload,\n",
    "    contentType=\"application/json\",\n",
    "    accept=\"application/json\"\n",
    ")\n",
    "\n",
    "# Extract embeddings\n",
    "response_body = json.loads(response[\"body\"].read())\n",
    "embeddings = response_body[\"embeddings\"]\n",
    "\n",
    "# Show sample output\n",
    "for i, emb in enumerate(embeddings):\n",
    "    print(f\"Text: {texts[i]}\")\n",
    "    print(f\"Embedding (dim {len(emb)}): {emb[:5]}...\\n\")\n"
   ]
  },
  {
   "cell_type": "markdown",
   "id": "ddb6d3d8",
   "metadata": {},
   "source": [
    "## Storing Vector Records"
   ]
  },
  {
   "cell_type": "code",
   "execution_count": 24,
   "id": "8cd3fce0",
   "metadata": {},
   "outputs": [
    {
     "name": "stdout",
     "output_type": "stream",
     "text": [
      "put_vectors took 0.366 seconds\n"
     ]
    }
   ],
   "source": [
    "# Store first embedding with a unique key\n",
    "start = time.perf_counter()\n",
    "response = client.put_vectors(\n",
    "    vectorBucketName=vector_bucket_name,\n",
    "    indexName=vector_bucket_index,\n",
    "    vectors=[\n",
    "        {\n",
    "            'key': 'vec1',\n",
    "            'data': {\n",
    "                'float32': embeddings[0]\n",
    "            },\n",
    "            'metadata': {\n",
    "                'type': 'doc'\n",
    "            }\n",
    "        }\n",
    "    ]\n",
    ")\n",
    "print(f\"put_vectors took {time.perf_counter() - start:.3f} seconds\")\n"
   ]
  },
  {
   "cell_type": "code",
   "execution_count": 25,
   "id": "700e0708",
   "metadata": {},
   "outputs": [
    {
     "name": "stdout",
     "output_type": "stream",
     "text": [
      "put_vectors took 0.459 seconds\n"
     ]
    }
   ],
   "source": [
    "# Store second embedding with a different key\n",
    "start = time.perf_counter()\n",
    "response = client.put_vectors(\n",
    "    vectorBucketName=vector_bucket_name,\n",
    "    indexName=vector_bucket_index,\n",
    "    vectors=[\n",
    "        {\n",
    "            'key': 'vec2',\n",
    "            'data': {\n",
    "                'float32': embeddings[1]\n",
    "            },\n",
    "            'metadata': {\n",
    "                'type': 'doc'\n",
    "            }\n",
    "        }\n",
    "    ]\n",
    ")\n",
    "print(f\"put_vectors took {time.perf_counter() - start:.3f} seconds\")\n"
   ]
  },
  {
   "cell_type": "markdown",
   "id": "02f0e2cb",
   "metadata": {},
   "source": [
    "## Querying for Similar Vectors"
   ]
  },
  {
   "cell_type": "code",
   "execution_count": 26,
   "id": "c1379815",
   "metadata": {},
   "outputs": [
    {
     "name": "stdout",
     "output_type": "stream",
     "text": [
      "query_vectors took 0.357 seconds\n",
      "{'key': 'vec1', 'metadata': {'type': 'doc'}, 'distance': 0.00040334463119506836}\n",
      "{'key': 'vec2', 'metadata': {'type': 'doc'}, 'distance': 0.42035973072052}\n"
     ]
    }
   ],
   "source": [
    "start = time.perf_counter()\n",
    "query = client.query_vectors( \n",
    "    vectorBucketName=vector_bucket_name,\n",
    "    indexName=vector_bucket_index,\n",
    "    queryVector={\"float32\": embeddings[0]},\n",
    "    topK=3,\n",
    "    returnDistance=True,\n",
    "    returnMetadata=True\n",
    ")\n",
    "elapsed = time.perf_counter() - start\n",
    "print(f\"query_vectors took {elapsed:.3f} seconds\")\n",
    "for result in query[\"vectors\"]:\n",
    "    print(result)\n"
   ]
  },
  {
   "cell_type": "markdown",
   "id": "d0fd18c9",
   "metadata": {},
   "source": [
    "## Optional: Query with Metadata Filtering"
   ]
  },
  {
   "cell_type": "code",
   "execution_count": 27,
   "id": "7456d30c",
   "metadata": {},
   "outputs": [
    {
     "name": "stdout",
     "output_type": "stream",
     "text": [
      "Filtered query results:\n",
      "{'key': 'vec1', 'metadata': {'type': 'doc'}, 'distance': 0.00040334463119506836}\n",
      "{'key': 'vec2', 'metadata': {'type': 'doc'}, 'distance': 0.42035973072052}\n"
     ]
    }
   ],
   "source": [
    "query_filtered = client.query_vectors(\n",
    "    vectorBucketName=vector_bucket_name,\n",
    "    indexName=vector_bucket_index,\n",
    "    queryVector={\"float32\": embeddings[0]},\n",
    "    topK=3,\n",
    "    returnDistance=True,\n",
    "    returnMetadata=True,\n",
    "    filter={\"type\": \"doc\"}\n",
    ")\n",
    "print(\"Filtered query results:\")\n",
    "for r in query_filtered[\"vectors\"]:\n",
    "    print(r)\n"
   ]
  },
  {
   "cell_type": "markdown",
   "id": "0004a0d4",
   "metadata": {},
   "source": [
    "## Optional: Listing Stored Vector Keys"
   ]
  },
  {
   "cell_type": "code",
   "execution_count": 28,
   "id": "47a52bbd",
   "metadata": {},
   "outputs": [
    {
     "name": "stdout",
     "output_type": "stream",
     "text": [
      "Vector keys stored in the index:\n",
      "- {'key': 'vec2'}\n",
      "- {'key': 'vec1'}\n"
     ]
    }
   ],
   "source": [
    "response = client.list_vectors(\n",
    "    vectorBucketName=vector_bucket_name,\n",
    "    indexName=vector_bucket_index,\n",
    "    maxResults=10\n",
    ")\n",
    "print(\"Vector keys stored in the index:\")\n",
    "for key in response[\"vectors\"]:\n",
    "    print(\"-\", key)\n"
   ]
  },
  {
   "cell_type": "markdown",
   "id": "ab038792",
   "metadata": {},
   "source": [
    "## Cleanup"
   ]
  },
  {
   "cell_type": "code",
   "execution_count": 29,
   "id": "fe9366d4",
   "metadata": {},
   "outputs": [
    {
     "data": {
      "text/plain": [
       "{'ResponseMetadata': {'RequestId': 'df4a106e-acb1-4b64-9b73-3455bf11c06a',\n",
       "  'HostId': '',\n",
       "  'HTTPStatusCode': 200,\n",
       "  'HTTPHeaders': {'date': 'Fri, 18 Jul 2025 10:46:29 GMT',\n",
       "   'content-type': 'application/json',\n",
       "   'content-length': '2',\n",
       "   'connection': 'keep-alive',\n",
       "   'x-amz-request-id': 'df4a106e-acb1-4b64-9b73-3455bf11c06a',\n",
       "   'access-control-allow-origin': '*',\n",
       "   'vary': 'origin, access-control-request-method, access-control-request-headers',\n",
       "   'access-control-expose-headers': '*'},\n",
       "  'RetryAttempts': 0}}"
      ]
     },
     "execution_count": 29,
     "metadata": {},
     "output_type": "execute_result"
    }
   ],
   "source": [
    "client.delete_index(\n",
    "    vectorBucketName=vector_bucket_name,\n",
    "    indexName=vector_bucket_index\n",
    ")\n",
    "\n",
    "client.delete_vector_bucket(vectorBucketName=vector_bucket_name)"
   ]
  },
  {
   "cell_type": "markdown",
   "id": "9e3b5297",
   "metadata": {},
   "source": [
    "### Summary\n",
    "\n",
    "- `put_vectors()` stores individual vectors with a **unique `key`**. Reusing a key will overwrite the previous record.\n",
    "- `query_vectors()` performs similarity search and can return metadata and distances.\n",
    "- Use `metadata` fields to tag vectors (e.g., type, source) and filter queries.\n",
    "- `list_keys()` helps inspect what is stored.\n",
    "\n",
    "Amazon S3 Vectors is a powerful way to build scalable vector search pipelines **without managing infrastructure**.\n"
   ]
  }
 ],
 "metadata": {
  "kernelspec": {
   "display_name": "s3vector",
   "language": "python",
   "name": ".venv"
  },
  "language_info": {
   "codemirror_mode": {
    "name": "ipython",
    "version": 3
   },
   "file_extension": ".py",
   "mimetype": "text/x-python",
   "name": "python",
   "nbconvert_exporter": "python",
   "pygments_lexer": "ipython3",
   "version": "3.13.3"
  }
 },
 "nbformat": 4,
 "nbformat_minor": 5
}
